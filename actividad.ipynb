{
 "cells": [
  {
   "cell_type": "markdown",
   "id": "498731c6",
   "metadata": {},
   "source": [
    "# Actividad - Trabajando con Series de Pandas.\n",
    "## Criterios de evaluación.\n",
    "\n",
    "* Se deben utilizar nombres de variables descriptivos y claros (Utilizar la nomeclatura correspondiente para los nombres de variables).\n",
    "* Comentarios claros y concisos que expliquen el propósito de cada sección del código.\n",
    "* Utilizar mensajes de commit **descriptivos**. (Puedes utilizar la extension CONVENTIONAL COMMIT de VS-CODE). \n",
    "* Entrega en tiempo y forma.\n",
    "* Todo el código desarrollado debe ser subido a un repositorio en GitHub (el nombre del repositorio de seguir la siguiente estructura: actividad_tlp3_nombre_apellido).\n",
    "* Para resolver las actividades se debe insertar casillas de codigo entre cada actividad del cuaderno de Jupyter\n",
    "\n",
    "### ¡Importante!\n",
    "**El incumplimiento de los criterios de evaluación restará puntos en la nota final del práctico!**"
   ]
  },
  {
   "cell_type": "markdown",
   "id": "b361a7b6",
   "metadata": {},
   "source": [
    "### **Actividad 1:** \n",
    "\n",
    "Crear Series desde diferentes estructuras.\n",
    "* Crea una Series con los números del 1 al 5\n",
    "* Crea una Series a partir de un diccionario con nombres de países como claves y sus capitales como valores."
   ]
  },
  {
   "cell_type": "code",
   "execution_count": null,
   "id": "26009294",
   "metadata": {},
   "outputs": [
    {
     "data": {
      "text/plain": [
       "0    1\n",
       "1    2\n",
       "2    3\n",
       "3    4\n",
       "4    5\n",
       "dtype: int64"
      ]
     },
     "execution_count": 1,
     "metadata": {},
     "output_type": "execute_result"
    }
   ],
   "source": [
    "# todo:\n",
    "import pandas as pd\n",
    "from pandas import Series\n",
    "\n",
    "numeros = Series([1,2,3,4,5])\n",
    "\n",
    "numeros\n",
    "\n",
    "#serie de llos numeros del 1 aln 5"
   ]
  },
  {
   "cell_type": "code",
   "execution_count": null,
   "id": "84b1d971",
   "metadata": {},
   "outputs": [
    {
     "data": {
      "text/plain": [
       "argentina    buenos aires\n",
       "uruguay        montevideo\n",
       "chile            santiago\n",
       "venezuela         caracas\n",
       "indonesia         yakarta\n",
       "dtype: object"
      ]
     },
     "execution_count": 2,
     "metadata": {},
     "output_type": "execute_result"
    }
   ],
   "source": [
    "paises = {\n",
    "    'argentina': 'buenos aires',\n",
    "    'uruguay': 'montevideo',\n",
    "    'chile': 'santiago',\n",
    "    'venezuela': 'caracas',\n",
    "    'indonesia':'yakarta'\n",
    "}\n",
    "\n",
    "capitales = Series(paises)\n",
    "\n",
    "capitales\n",
    "\n",
    "#serie a partir de un diccionario"
   ]
  },
  {
   "cell_type": "markdown",
   "id": "0c239195",
   "metadata": {},
   "source": [
    "### **Actividad 2:** \n",
    "Acceso y selección de elementos.\n",
    "* Usa una Series con tareas (que haceres cotidianos) de una semana\n",
    "* Accede a diferentes elementos a elección.\n",
    "* Cambia los valores de los dias pares.\n"
   ]
  },
  {
   "cell_type": "code",
   "execution_count": 13,
   "id": "3611d25a",
   "metadata": {},
   "outputs": [
    {
     "name": "stdout",
     "output_type": "stream",
     "text": [
      "lunes                 sacar la basura\n",
      "martes                  lavar la ropa\n",
      "miercoles         limpiar los muebles\n",
      "jueves              limpiar la cocina\n",
      "viernes             hacer las compras\n",
      "sabado       ordenar las habitaciones\n",
      "domingo                barrer la casa\n",
      "dtype: object\n"
     ]
    }
   ],
   "source": [
    "\n",
    "# todo:\n",
    "\n",
    "quehaceres = Series({\n",
    "    'lunes': 'sacar la basura',\n",
    "    'martes': 'lavar la ropa',\n",
    "    'miercoles': 'limpiar los muebles',\n",
    "    'jueves': 'limpiar la cocina',\n",
    "    'viernes':'hacer las compras',\n",
    "    'sabado': 'ordenar las habitaciones',\n",
    "    'domingo': 'barrer la casa'\n",
    "    \n",
    "})\n",
    "\n",
    "print(quehaceres)\n",
    "\n",
    "#series de tareas de una semana\n"
   ]
  },
  {
   "cell_type": "code",
   "execution_count": 19,
   "id": "7148e2ab",
   "metadata": {},
   "outputs": [
    {
     "name": "stdout",
     "output_type": "stream",
     "text": [
      "días seleccionados:\n",
      "['miercoles', 'domingo']\n"
     ]
    }
   ],
   "source": [
    "#se acceden a diferentes dias a eleccion\n",
    "\n",
    "dias_elegidos = input(\"escribe los días que deseas, separados por comas (ej: lunes,miercoles,viernes): \")\n",
    "dias_usuario = [dia.strip().lower() for dia in dias_elegidos.split(\",\") if dia.strip().lower() in quehaceres.index]\n",
    "\n",
    "dias_filtrados = dias_usuario[1::2]\n",
    "\n",
    "print(\"días seleccionados:\")\n",
    "print(dias_filtrados)\n"
   ]
  },
  {
   "cell_type": "code",
   "execution_count": 20,
   "id": "33eb5c26",
   "metadata": {},
   "outputs": [
    {
     "name": "stdout",
     "output_type": "stream",
     "text": [
      "quehaceres actualizados:\n",
      "lunes                            hola\n",
      "martes                  lavar la ropa\n",
      "miercoles                        hola\n",
      "jueves              limpiar la cocina\n",
      "viernes             hacer las compras\n",
      "sabado       ordenar las habitaciones\n",
      "domingo                         mundo\n",
      "dtype: object\n"
     ]
    }
   ],
   "source": [
    "# cambiar los valores de dias pares \n",
    "for dia in dias_filtrados:\n",
    "    nuevo_quehacer = input(\"escribe la nueva tarea para \"+ dia + \" : \")\n",
    "    quehaceres[dia] = nuevo_quehacer\n",
    "\n",
    "print(\"quehaceres actualizados:\")\n",
    "print(quehaceres)\n"
   ]
  },
  {
   "cell_type": "markdown",
   "id": "70a24b97",
   "metadata": {},
   "source": [
    "### **Actividad 3:**\n",
    "Operaciones aritméticas. \n",
    "* Realiza las operaciones basicas con 2 series cuales quieran.\n",
    "* Eleva los valores de la primer serie a 3 potencias difetentes."
   ]
  },
  {
   "cell_type": "code",
   "execution_count": 28,
   "id": "a9c8ebc7",
   "metadata": {},
   "outputs": [
    {
     "name": "stdout",
     "output_type": "stream",
     "text": [
      "suma: 0     9\n",
      "1    10\n",
      "2     3\n",
      "3     4\n",
      "4    11\n",
      "dtype: int64\n",
      "resta: 0    5\n",
      "1    0\n",
      "2    1\n",
      "3    0\n",
      "4    1\n",
      "dtype: int64\n",
      "multiplicación: 0    14\n",
      "1    25\n",
      "2     2\n",
      "3     4\n",
      "4    30\n",
      "dtype: int64\n",
      "división: 0    3.5\n",
      "1    1.0\n",
      "2    2.0\n",
      "3    1.0\n",
      "4    1.2\n",
      "dtype: float64\n"
     ]
    }
   ],
   "source": [
    "\n",
    "# todo:\n",
    "serie_uno = Series([7, 5, 2, 2, 6])\n",
    "serie_dos = Series([2, 5, 1, 2, 5])\n",
    "\n",
    "suma = serie_uno + serie_dos\n",
    "resta = serie_uno - serie_dos\n",
    "multiplicacion = serie_uno * serie_dos\n",
    "division = serie_uno / serie_dos\n",
    "\n",
    "print(\"suma:\", suma)\n",
    "print(\"resta:\", resta)\n",
    "print(\"multiplicación:\", multiplicacion)\n",
    "print(\"división:\", division)"
   ]
  },
  {
   "cell_type": "code",
   "execution_count": 29,
   "id": "25794330",
   "metadata": {},
   "outputs": [
    {
     "name": "stdout",
     "output_type": "stream",
     "text": [
      "serie elevada a la potencia 2 : 0    49\n",
      "1    25\n",
      "2     4\n",
      "3     4\n",
      "4    36\n",
      "dtype: int64\n",
      "serie elevada a la potencia 3 : 0    343\n",
      "1    125\n",
      "2      8\n",
      "3      8\n",
      "4    216\n",
      "dtype: int64\n",
      "serie elevada a la potencia 4 : 0    2401\n",
      "1     625\n",
      "2      16\n",
      "3      16\n",
      "4    1296\n",
      "dtype: int64\n"
     ]
    }
   ],
   "source": [
    "potencias = []\n",
    "for numero in range(1, 4):\n",
    "    resultado = int(input(\"escribe la potencia del numero \" + str(numero) + \": \"))\n",
    "    potencias.append(resultado)\n",
    "\n",
    "resultado_1 = serie_uno ** potencias[0]\n",
    "resultado_2 = serie_uno ** potencias[1]\n",
    "resultado_3 = serie_uno ** potencias[2]\n",
    "\n",
    "print(\"serie elevada a la potencia\", potencias[0], \":\", resultado_1)\n",
    "print(\"serie elevada a la potencia\", potencias[1], \":\", resultado_2)\n",
    "print(\"serie elevada a la potencia\", potencias[2], \":\", resultado_3)"
   ]
  },
  {
   "cell_type": "markdown",
   "id": "b8dac397",
   "metadata": {},
   "source": [
    "### **Actividad 4:** \n",
    "Filtrado con condiciones.\n",
    "* Crea una Series de edades de 10 personas.\n",
    "* Muestra solo a los mayores de 18.\n",
    "* Reemplaza a los menores por \"Menor de edad\"."
   ]
  },
  {
   "cell_type": "code",
   "execution_count": 31,
   "id": "d04fd492",
   "metadata": {},
   "outputs": [
    {
     "name": "stdout",
     "output_type": "stream",
     "text": [
      "edades:\n",
      "0    15\n",
      "1     2\n",
      "2    20\n",
      "3     6\n",
      "4    25\n",
      "5    10\n",
      "6     5\n",
      "7    17\n",
      "8    18\n",
      "9    34\n",
      "dtype: int64\n"
     ]
    }
   ],
   "source": [
    "\n",
    "# todo:\n",
    "edades = Series([15, 2, 20, 6, 25, 10, 5, 17, 18, 34])\n",
    "\n",
    "print(\"edades:\")\n",
    "print(edades)"
   ]
  },
  {
   "cell_type": "code",
   "execution_count": 32,
   "id": "d3697316",
   "metadata": {},
   "outputs": [
    {
     "name": "stdout",
     "output_type": "stream",
     "text": [
      "edades mayores de 18:\n",
      "2    20\n",
      "4    25\n",
      "9    34\n",
      "dtype: int64\n"
     ]
    }
   ],
   "source": [
    "mayores = edades[edades > 18]\n",
    "\n",
    "print(\"edades mayores de 18:\")\n",
    "print(mayores)"
   ]
  },
  {
   "cell_type": "markdown",
   "id": "8889d0f2",
   "metadata": {},
   "source": [
    "### Actividad 5:\n",
    "Estadísticas básicas.\n",
    "\n",
    "* Crea una Series con las notas de 10 estudiantes.\n",
    "* Calcula la media, mediana, desviación estándar y máximo.\n",
    "* Muestra cuántos estudiantes aprobaron si el mínimo para aprobar es 6.\n",
    "* Ordenar las notas de manera ascendente y descendente. "
   ]
  },
  {
   "cell_type": "code",
   "execution_count": 37,
   "id": "bc0ec844",
   "metadata": {},
   "outputs": [
    {
     "name": "stdout",
     "output_type": "stream",
     "text": [
      "notas:\n",
      "andres     5\n",
      "abril      2\n",
      "brenda     6\n",
      "gabriel    8\n",
      "tomas      9\n",
      "axel       7\n",
      "melanie    9\n",
      "clara      1\n",
      "celeste    4\n",
      "micaela    8\n",
      "dtype: int64\n"
     ]
    }
   ],
   "source": [
    "\n",
    "# todo:\n",
    "estudiantes = [\"andres\", \"abril\", \"brenda\", \"gabriel\", \"tomas\", \"axel\", \"melanie\", \"clara\", \"celeste\", \"micaela\"]\n",
    "\n",
    "notas = Series([5, 2, 6, 8, 9, 7, 9, 1, 4, 8], index=estudiantes)\n",
    "\n",
    "print(\"notas:\")\n",
    "print(notas)\n"
   ]
  },
  {
   "cell_type": "code",
   "execution_count": 38,
   "id": "c66710e5",
   "metadata": {},
   "outputs": [
    {
     "name": "stdout",
     "output_type": "stream",
     "text": [
      "media: 5.9\n",
      "mediana: 6.5\n",
      "desviacion estandar: 2.8460498941515415\n",
      "maximo: 9\n"
     ]
    }
   ],
   "source": [
    "media = notas.mean()\n",
    "mediana = notas.median()\n",
    "desviacion_estandar = notas.std()\n",
    "maximo = notas.max()\n",
    "\n",
    "print(\"media:\", media)\n",
    "print(\"mediana:\", mediana)\n",
    "print(\"desviacion estandar:\", desviacion_estandar)\n",
    "print(\"maximo:\", maximo)"
   ]
  },
  {
   "cell_type": "code",
   "execution_count": 39,
   "id": "f2c05b49",
   "metadata": {},
   "outputs": [
    {
     "name": "stdout",
     "output_type": "stream",
     "text": [
      "estudiantes que aprobaron: 6\n"
     ]
    }
   ],
   "source": [
    "aprobados = notas[notas >= 6].count()\n",
    "\n",
    "print(\"estudiantes que aprobaron:\", aprobados)"
   ]
  },
  {
   "cell_type": "code",
   "execution_count": null,
   "id": "759fdc67",
   "metadata": {},
   "outputs": [
    {
     "name": "stdout",
     "output_type": "stream",
     "text": [
      "notas ordenadas de manera ascendente:\n",
      "clara      1\n",
      "abril      2\n",
      "celeste    4\n",
      "andres     5\n",
      "brenda     6\n",
      "axel       7\n",
      "micaela    8\n",
      "gabriel    8\n",
      "melanie    9\n",
      "tomas      9\n",
      "dtype: int64\n",
      "notas ordenadas de manera descendente:\n",
      "melanie    9\n",
      "tomas      9\n",
      "micaela    8\n",
      "gabriel    8\n",
      "axel       7\n",
      "brenda     6\n",
      "andres     5\n",
      "celeste    4\n",
      "abril      2\n",
      "clara      1\n",
      "dtype: int64\n"
     ]
    }
   ],
   "source": [
    "ascendente = notas.sort_values(ascending=True)\n",
    "descendente = notas.sort_values(ascending=False)\n",
    "\n",
    "print(\"notas ordenadas de manera ascendente:\")\n",
    "print(ascendente)\n",
    "print(\"notas ordenadas de manera descendente:\")\n",
    "print(descendente)"
   ]
  }
 ],
 "metadata": {
  "kernelspec": {
   "display_name": "actividad",
   "language": "python",
   "name": "python3"
  },
  "language_info": {
   "codemirror_mode": {
    "name": "ipython",
    "version": 3
   },
   "file_extension": ".py",
   "mimetype": "text/x-python",
   "name": "python",
   "nbconvert_exporter": "python",
   "pygments_lexer": "ipython3",
   "version": "3.12.9"
  }
 },
 "nbformat": 4,
 "nbformat_minor": 5
}
