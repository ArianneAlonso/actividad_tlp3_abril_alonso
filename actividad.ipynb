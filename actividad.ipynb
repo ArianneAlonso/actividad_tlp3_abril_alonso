{
 "cells": [
  {
   "cell_type": "markdown",
   "id": "498731c6",
   "metadata": {},
   "source": [
    "# Actividad - Trabajando con Series de Pandas.\n",
    "## Criterios de evaluación.\n",
    "\n",
    "* Se deben utilizar nombres de variables descriptivos y claros (Utilizar la nomeclatura correspondiente para los nombres de variables).\n",
    "* Comentarios claros y concisos que expliquen el propósito de cada sección del código.\n",
    "* Utilizar mensajes de commit **descriptivos**. (Puedes utilizar la extension CONVENTIONAL COMMIT de VS-CODE). \n",
    "* Entrega en tiempo y forma.\n",
    "* Todo el código desarrollado debe ser subido a un repositorio en GitHub (el nombre del repositorio de seguir la siguiente estructura: actividad_tlp3_nombre_apellido).\n",
    "* Para resolver las actividades se debe insertar casillas de codigo entre cada actividad del cuaderno de Jupyter\n",
    "\n",
    "### ¡Importante!\n",
    "**El incumplimiento de los criterios de evaluación restará puntos en la nota final del práctico!**"
   ]
  },
  {
   "cell_type": "markdown",
   "id": "b361a7b6",
   "metadata": {},
   "source": [
    "### **Actividad 1:** \n",
    "\n",
    "Crear Series desde diferentes estructuras.\n",
    "* Crea una Series con los números del 1 al 5\n",
    "* Crea una Series a partir de un diccionario con nombres de países como claves y sus capitales como valores."
   ]
  },
  {
   "cell_type": "code",
   "execution_count": null,
   "id": "26009294",
   "metadata": {},
   "outputs": [
    {
     "data": {
      "text/plain": [
       "0    1\n",
       "1    2\n",
       "2    3\n",
       "3    4\n",
       "4    5\n",
       "dtype: int64"
      ]
     },
     "execution_count": 1,
     "metadata": {},
     "output_type": "execute_result"
    }
   ],
   "source": [
    "# todo:\n",
    "import pandas as pd\n",
    "from pandas import Series\n",
    "\n",
    "numeros = Series([1,2,3,4,5])\n",
    "\n",
    "numeros\n",
    "\n",
    "#serie de llos numeros del 1 aln 5"
   ]
  },
  {
   "cell_type": "code",
   "execution_count": null,
   "id": "84b1d971",
   "metadata": {},
   "outputs": [
    {
     "data": {
      "text/plain": [
       "argentina    buenos aires\n",
       "uruguay        montevideo\n",
       "chile            santiago\n",
       "venezuela         caracas\n",
       "indonesia         yakarta\n",
       "dtype: object"
      ]
     },
     "execution_count": 2,
     "metadata": {},
     "output_type": "execute_result"
    }
   ],
   "source": [
    "paises = {\n",
    "    'argentina': 'buenos aires',\n",
    "    'uruguay': 'montevideo',\n",
    "    'chile': 'santiago',\n",
    "    'venezuela': 'caracas',\n",
    "    'indonesia':'yakarta'\n",
    "}\n",
    "\n",
    "capitales = Series(paises)\n",
    "\n",
    "capitales\n",
    "\n",
    "#serie a partir de un diccionario"
   ]
  },
  {
   "cell_type": "markdown",
   "id": "0c239195",
   "metadata": {},
   "source": [
    "### **Actividad 2:** \n",
    "Acceso y selección de elementos.\n",
    "* Usa una Series con tareas (que haceres cotidianos) de una semana\n",
    "* Accede a diferentes elementos a elección.\n",
    "* Cambia los valores de los dias pares.\n"
   ]
  },
  {
   "cell_type": "code",
   "execution_count": 13,
   "id": "3611d25a",
   "metadata": {},
   "outputs": [
    {
     "name": "stdout",
     "output_type": "stream",
     "text": [
      "lunes                 sacar la basura\n",
      "martes                  lavar la ropa\n",
      "miercoles         limpiar los muebles\n",
      "jueves              limpiar la cocina\n",
      "viernes             hacer las compras\n",
      "sabado       ordenar las habitaciones\n",
      "domingo                barrer la casa\n",
      "dtype: object\n"
     ]
    }
   ],
   "source": [
    "\n",
    "# todo:\n",
    "\n",
    "quehaceres = Series({\n",
    "    'lunes': 'sacar la basura',\n",
    "    'martes': 'lavar la ropa',\n",
    "    'miercoles': 'limpiar los muebles',\n",
    "    'jueves': 'limpiar la cocina',\n",
    "    'viernes':'hacer las compras',\n",
    "    'sabado': 'ordenar las habitaciones',\n",
    "    'domingo': 'barrer la casa'\n",
    "    \n",
    "})\n",
    "\n",
    "print(quehaceres)\n",
    "\n",
    "#series de tareas de una semana\n"
   ]
  },
  {
   "cell_type": "code",
   "execution_count": 19,
   "id": "7148e2ab",
   "metadata": {},
   "outputs": [
    {
     "name": "stdout",
     "output_type": "stream",
     "text": [
      "días seleccionados:\n",
      "['miercoles', 'domingo']\n"
     ]
    }
   ],
   "source": [
    "#se acceden a diferentes dias a eleccion\n",
    "\n",
    "dias_elegidos = input(\"escribe los días que deseas, separados por comas (ej: lunes,miercoles,viernes): \")\n",
    "dias_usuario = [dia.strip().lower() for dia in dias_elegidos.split(\",\") if dia.strip().lower() in quehaceres.index]\n",
    "\n",
    "dias_filtrados = dias_usuario[1::2]\n",
    "\n",
    "print(\"días seleccionados:\")\n",
    "print(dias_filtrados)\n"
   ]
  },
  {
   "cell_type": "code",
   "execution_count": 20,
   "id": "33eb5c26",
   "metadata": {},
   "outputs": [
    {
     "name": "stdout",
     "output_type": "stream",
     "text": [
      "quehaceres actualizados:\n",
      "lunes                            hola\n",
      "martes                  lavar la ropa\n",
      "miercoles                        hola\n",
      "jueves              limpiar la cocina\n",
      "viernes             hacer las compras\n",
      "sabado       ordenar las habitaciones\n",
      "domingo                         mundo\n",
      "dtype: object\n"
     ]
    }
   ],
   "source": [
    "# cambiar los valores de dias pares \n",
    "for dia in dias_filtrados:\n",
    "    nuevo_quehacer = input(\"escribe la nueva tarea para \"+ dia + \" : \")\n",
    "    quehaceres[dia] = nuevo_quehacer\n",
    "\n",
    "print(\"quehaceres actualizados:\")\n",
    "print(quehaceres)\n"
   ]
  },
  {
   "cell_type": "markdown",
   "id": "70a24b97",
   "metadata": {},
   "source": [
    "### **Actividad 3:**\n",
    "Operaciones aritméticas. \n",
    "* Realiza las operaciones basicas con 2 series cuales quieran.\n",
    "* Eleva los valores de la primer serie a 3 potencias difetentes."
   ]
  },
  {
   "cell_type": "code",
   "execution_count": null,
   "id": "a9c8ebc7",
   "metadata": {},
   "outputs": [],
   "source": [
    "\n",
    "# todo:"
   ]
  },
  {
   "cell_type": "markdown",
   "id": "b8dac397",
   "metadata": {},
   "source": [
    "### **Actividad 4:** \n",
    "Filtrado con condiciones.\n",
    "* Crea una Series de edades de 10 personas.\n",
    "* Muestra solo a los mayores de 18.\n",
    "* Reemplaza a los menores por \"Menor de edad\"."
   ]
  },
  {
   "cell_type": "code",
   "execution_count": null,
   "id": "d04fd492",
   "metadata": {},
   "outputs": [],
   "source": [
    "\n",
    "# todo:"
   ]
  },
  {
   "cell_type": "markdown",
   "id": "8889d0f2",
   "metadata": {},
   "source": [
    "### Actividad 5:\n",
    "Estadísticas básicas.\n",
    "\n",
    "* Crea una Series con las notas de 10 estudiantes.\n",
    "* Calcula la media, mediana, desviación estándar y máximo.\n",
    "* Muestra cuántos estudiantes aprobaron si el mínimo para aprobar es 6.\n",
    "* Ordenar las notas de manera ascendente y descendente. "
   ]
  },
  {
   "cell_type": "code",
   "execution_count": null,
   "id": "bc0ec844",
   "metadata": {},
   "outputs": [],
   "source": [
    "\n",
    "# todo:\n"
   ]
  }
 ],
 "metadata": {
  "kernelspec": {
   "display_name": "actividad",
   "language": "python",
   "name": "python3"
  },
  "language_info": {
   "codemirror_mode": {
    "name": "ipython",
    "version": 3
   },
   "file_extension": ".py",
   "mimetype": "text/x-python",
   "name": "python",
   "nbconvert_exporter": "python",
   "pygments_lexer": "ipython3",
   "version": "3.12.9"
  }
 },
 "nbformat": 4,
 "nbformat_minor": 5
}
